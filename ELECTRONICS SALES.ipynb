{
 "cells": [
  {
   "cell_type": "code",
   "execution_count": 1,
   "id": "8738afa3",
   "metadata": {},
   "outputs": [],
   "source": [
    "# The dataset gives us electronics sales data at Amazon. \n",
    "\n",
    "# It contains user ratings for various electronics items sold, along with category of each item and time of sell.\n",
    "\n",
    "# The dataset is available at https://www.kaggle.com/datasets/edusanketdk/electronics\n"
   ]
  },
  {
   "cell_type": "code",
   "execution_count": 110,
   "id": "a8af81da",
   "metadata": {},
   "outputs": [],
   "source": [
    "# Importing the libraries\n",
    "\n",
    "import pandas as pd\n",
    "import numpy as np\n",
    "import matplotlib.pyplot as plt\n",
    "\n",
    "# visualization\n",
    "\n",
    "import seaborn as sns"
   ]
  },
  {
   "cell_type": "code",
   "execution_count": 111,
   "id": "975e2d0e",
   "metadata": {},
   "outputs": [],
   "source": [
    "# Importing the dataset\n",
    "\n",
    "dataset = pd.read_csv(\"C:\\\\Users\\\\Nishita Bajaj\\\\OneDrive\\\\Desktop\\ANALYZIZ\\\\electronics.csv\")"
   ]
  },
  {
   "cell_type": "code",
   "execution_count": 112,
   "id": "9add43d4",
   "metadata": {},
   "outputs": [
    {
     "data": {
      "text/html": [
       "<div>\n",
       "<style scoped>\n",
       "    .dataframe tbody tr th:only-of-type {\n",
       "        vertical-align: middle;\n",
       "    }\n",
       "\n",
       "    .dataframe tbody tr th {\n",
       "        vertical-align: top;\n",
       "    }\n",
       "\n",
       "    .dataframe thead th {\n",
       "        text-align: right;\n",
       "    }\n",
       "</style>\n",
       "<table border=\"1\" class=\"dataframe\">\n",
       "  <thead>\n",
       "    <tr style=\"text-align: right;\">\n",
       "      <th></th>\n",
       "      <th>item_id</th>\n",
       "      <th>user_id</th>\n",
       "      <th>rating</th>\n",
       "      <th>timestamp</th>\n",
       "      <th>model_attr</th>\n",
       "      <th>category</th>\n",
       "      <th>brand</th>\n",
       "      <th>year</th>\n",
       "      <th>user_attr</th>\n",
       "      <th>split</th>\n",
       "    </tr>\n",
       "  </thead>\n",
       "  <tbody>\n",
       "    <tr>\n",
       "      <th>0</th>\n",
       "      <td>0</td>\n",
       "      <td>0</td>\n",
       "      <td>5.0</td>\n",
       "      <td>1999-06-13</td>\n",
       "      <td>Female</td>\n",
       "      <td>Portable Audio &amp; Video</td>\n",
       "      <td>NaN</td>\n",
       "      <td>1999</td>\n",
       "      <td>NaN</td>\n",
       "      <td>0</td>\n",
       "    </tr>\n",
       "    <tr>\n",
       "      <th>1</th>\n",
       "      <td>0</td>\n",
       "      <td>1</td>\n",
       "      <td>5.0</td>\n",
       "      <td>1999-06-14</td>\n",
       "      <td>Female</td>\n",
       "      <td>Portable Audio &amp; Video</td>\n",
       "      <td>NaN</td>\n",
       "      <td>1999</td>\n",
       "      <td>NaN</td>\n",
       "      <td>0</td>\n",
       "    </tr>\n",
       "    <tr>\n",
       "      <th>2</th>\n",
       "      <td>0</td>\n",
       "      <td>2</td>\n",
       "      <td>3.0</td>\n",
       "      <td>1999-06-17</td>\n",
       "      <td>Female</td>\n",
       "      <td>Portable Audio &amp; Video</td>\n",
       "      <td>NaN</td>\n",
       "      <td>1999</td>\n",
       "      <td>NaN</td>\n",
       "      <td>0</td>\n",
       "    </tr>\n",
       "    <tr>\n",
       "      <th>3</th>\n",
       "      <td>0</td>\n",
       "      <td>3</td>\n",
       "      <td>1.0</td>\n",
       "      <td>1999-07-01</td>\n",
       "      <td>Female</td>\n",
       "      <td>Portable Audio &amp; Video</td>\n",
       "      <td>NaN</td>\n",
       "      <td>1999</td>\n",
       "      <td>NaN</td>\n",
       "      <td>0</td>\n",
       "    </tr>\n",
       "    <tr>\n",
       "      <th>4</th>\n",
       "      <td>0</td>\n",
       "      <td>4</td>\n",
       "      <td>2.0</td>\n",
       "      <td>1999-07-06</td>\n",
       "      <td>Female</td>\n",
       "      <td>Portable Audio &amp; Video</td>\n",
       "      <td>NaN</td>\n",
       "      <td>1999</td>\n",
       "      <td>NaN</td>\n",
       "      <td>0</td>\n",
       "    </tr>\n",
       "  </tbody>\n",
       "</table>\n",
       "</div>"
      ],
      "text/plain": [
       "   item_id  user_id  rating   timestamp model_attr                category  \\\n",
       "0        0        0     5.0  1999-06-13     Female  Portable Audio & Video   \n",
       "1        0        1     5.0  1999-06-14     Female  Portable Audio & Video   \n",
       "2        0        2     3.0  1999-06-17     Female  Portable Audio & Video   \n",
       "3        0        3     1.0  1999-07-01     Female  Portable Audio & Video   \n",
       "4        0        4     2.0  1999-07-06     Female  Portable Audio & Video   \n",
       "\n",
       "  brand  year user_attr  split  \n",
       "0   NaN  1999       NaN      0  \n",
       "1   NaN  1999       NaN      0  \n",
       "2   NaN  1999       NaN      0  \n",
       "3   NaN  1999       NaN      0  \n",
       "4   NaN  1999       NaN      0  "
      ]
     },
     "execution_count": 112,
     "metadata": {},
     "output_type": "execute_result"
    }
   ],
   "source": [
    "# list of first five rows\n",
    "\n",
    "dataset.head()"
   ]
  },
  {
   "cell_type": "code",
   "execution_count": 113,
   "id": "fb0a9840",
   "metadata": {},
   "outputs": [
    {
     "data": {
      "text/html": [
       "<div>\n",
       "<style scoped>\n",
       "    .dataframe tbody tr th:only-of-type {\n",
       "        vertical-align: middle;\n",
       "    }\n",
       "\n",
       "    .dataframe tbody tr th {\n",
       "        vertical-align: top;\n",
       "    }\n",
       "\n",
       "    .dataframe thead th {\n",
       "        text-align: right;\n",
       "    }\n",
       "</style>\n",
       "<table border=\"1\" class=\"dataframe\">\n",
       "  <thead>\n",
       "    <tr style=\"text-align: right;\">\n",
       "      <th></th>\n",
       "      <th>item_id</th>\n",
       "      <th>user_id</th>\n",
       "      <th>rating</th>\n",
       "      <th>timestamp</th>\n",
       "      <th>model_attr</th>\n",
       "      <th>category</th>\n",
       "      <th>brand</th>\n",
       "      <th>year</th>\n",
       "      <th>user_attr</th>\n",
       "      <th>split</th>\n",
       "    </tr>\n",
       "  </thead>\n",
       "  <tbody>\n",
       "    <tr>\n",
       "      <th>1292949</th>\n",
       "      <td>9478</td>\n",
       "      <td>1157628</td>\n",
       "      <td>1.0</td>\n",
       "      <td>2018-09-26</td>\n",
       "      <td>Female</td>\n",
       "      <td>Headphones</td>\n",
       "      <td>Etre Jeune</td>\n",
       "      <td>2017</td>\n",
       "      <td>NaN</td>\n",
       "      <td>0</td>\n",
       "    </tr>\n",
       "    <tr>\n",
       "      <th>1292950</th>\n",
       "      <td>9435</td>\n",
       "      <td>1157629</td>\n",
       "      <td>5.0</td>\n",
       "      <td>2018-09-26</td>\n",
       "      <td>Female</td>\n",
       "      <td>Computers &amp; Accessories</td>\n",
       "      <td>NaN</td>\n",
       "      <td>2017</td>\n",
       "      <td>NaN</td>\n",
       "      <td>0</td>\n",
       "    </tr>\n",
       "    <tr>\n",
       "      <th>1292951</th>\n",
       "      <td>9305</td>\n",
       "      <td>1157630</td>\n",
       "      <td>3.0</td>\n",
       "      <td>2018-09-26</td>\n",
       "      <td>Female</td>\n",
       "      <td>Computers &amp; Accessories</td>\n",
       "      <td>NaN</td>\n",
       "      <td>2016</td>\n",
       "      <td>NaN</td>\n",
       "      <td>0</td>\n",
       "    </tr>\n",
       "    <tr>\n",
       "      <th>1292952</th>\n",
       "      <td>9303</td>\n",
       "      <td>1157631</td>\n",
       "      <td>5.0</td>\n",
       "      <td>2018-09-29</td>\n",
       "      <td>Male</td>\n",
       "      <td>Headphones</td>\n",
       "      <td>NaN</td>\n",
       "      <td>2018</td>\n",
       "      <td>NaN</td>\n",
       "      <td>0</td>\n",
       "    </tr>\n",
       "    <tr>\n",
       "      <th>1292953</th>\n",
       "      <td>9478</td>\n",
       "      <td>1157632</td>\n",
       "      <td>1.0</td>\n",
       "      <td>2018-10-01</td>\n",
       "      <td>Female</td>\n",
       "      <td>Headphones</td>\n",
       "      <td>Etre Jeune</td>\n",
       "      <td>2017</td>\n",
       "      <td>Female</td>\n",
       "      <td>0</td>\n",
       "    </tr>\n",
       "  </tbody>\n",
       "</table>\n",
       "</div>"
      ],
      "text/plain": [
       "         item_id  user_id  rating   timestamp model_attr  \\\n",
       "1292949     9478  1157628     1.0  2018-09-26     Female   \n",
       "1292950     9435  1157629     5.0  2018-09-26     Female   \n",
       "1292951     9305  1157630     3.0  2018-09-26     Female   \n",
       "1292952     9303  1157631     5.0  2018-09-29       Male   \n",
       "1292953     9478  1157632     1.0  2018-10-01     Female   \n",
       "\n",
       "                        category       brand  year user_attr  split  \n",
       "1292949               Headphones  Etre Jeune  2017       NaN      0  \n",
       "1292950  Computers & Accessories         NaN  2017       NaN      0  \n",
       "1292951  Computers & Accessories         NaN  2016       NaN      0  \n",
       "1292952               Headphones         NaN  2018       NaN      0  \n",
       "1292953               Headphones  Etre Jeune  2017    Female      0  "
      ]
     },
     "execution_count": 113,
     "metadata": {},
     "output_type": "execute_result"
    }
   ],
   "source": [
    "# list of last five rows\n",
    "\n",
    "dataset.tail()"
   ]
  },
  {
   "cell_type": "code",
   "execution_count": 114,
   "id": "8459e9c7",
   "metadata": {},
   "outputs": [
    {
     "data": {
      "text/plain": [
       "(1292954, 10)"
      ]
     },
     "execution_count": 114,
     "metadata": {},
     "output_type": "execute_result"
    }
   ],
   "source": [
    "# shape\n",
    "\n",
    "dataset.shape"
   ]
  },
  {
   "cell_type": "code",
   "execution_count": 115,
   "id": "bebf698f",
   "metadata": {},
   "outputs": [
    {
     "name": "stdout",
     "output_type": "stream",
     "text": [
      "<class 'pandas.core.frame.DataFrame'>\n",
      "RangeIndex: 1292954 entries, 0 to 1292953\n",
      "Data columns (total 10 columns):\n",
      " #   Column      Non-Null Count    Dtype  \n",
      "---  ------      --------------    -----  \n",
      " 0   item_id     1292954 non-null  int64  \n",
      " 1   user_id     1292954 non-null  int64  \n",
      " 2   rating      1292954 non-null  float64\n",
      " 3   timestamp   1292954 non-null  object \n",
      " 4   model_attr  1292954 non-null  object \n",
      " 5   category    1292954 non-null  object \n",
      " 6   brand       331120 non-null   object \n",
      " 7   year        1292954 non-null  int64  \n",
      " 8   user_attr   174124 non-null   object \n",
      " 9   split       1292954 non-null  int64  \n",
      "dtypes: float64(1), int64(4), object(5)\n",
      "memory usage: 98.6+ MB\n"
     ]
    }
   ],
   "source": [
    "# It is also a good practice to know the columns and their corresponding data types\n",
    "# along with finding whether they contain null values or not.\n",
    "\n",
    "dataset.info()"
   ]
  },
  {
   "cell_type": "markdown",
   "id": "2055a4a9",
   "metadata": {},
   "source": [
    "We can see that the dataset contains 5 columns and 10000 rows.    \n",
    "\n",
    "The columns are as follows:\n",
    "\n",
    "1. User ID\n",
    "\n",
    "2. Product ID\n",
    "\n",
    "3. Rating\n",
    "\n",
    "4. Timestamp\n",
    "\n",
    "5. Category\n",
    "\n",
    "The data types of the columns are as follows:\n",
    "\n",
    "1. User ID - int64\n",
    "\n",
    "2. Product ID - object\n",
    "\n",
    "3. Rating - int64\n",
    "\n",
    "4. Timestamp - int64\n",
    "\n",
    "5. Category - object\n",
    "\n",
    "We can see that the columns User ID and Rating are of int64 data type, while the columns Product ID and Category are of object data type.\n",
    "\n",
    "We can also see that there are no null values in the dataset.\n",
    "\n",
    "We can also see that the column Timestamp is of int64 data type, but it is actually a timestamp.\n",
    "\n",
    "We can convert it to a timestamp using the following code:"
   ]
  },
  {
   "cell_type": "code",
   "execution_count": 116,
   "id": "be9d08ad",
   "metadata": {},
   "outputs": [
    {
     "data": {
      "text/plain": [
       "0         1999-06-13\n",
       "1         1999-06-14\n",
       "2         1999-06-17\n",
       "3         1999-07-01\n",
       "4         1999-07-06\n",
       "             ...    \n",
       "1292949   2018-09-26\n",
       "1292950   2018-09-26\n",
       "1292951   2018-09-26\n",
       "1292952   2018-09-29\n",
       "1292953   2018-10-01\n",
       "Name: timestamp, Length: 1292954, dtype: datetime64[ns]"
      ]
     },
     "execution_count": 116,
     "metadata": {},
     "output_type": "execute_result"
    }
   ],
   "source": [
    "from datetime import datetime\n",
    "\n",
    "pd.to_datetime(dataset['timestamp'])"
   ]
  },
  {
   "cell_type": "markdown",
   "id": "df36890d",
   "metadata": {},
   "source": [
    "We can also see that the column Product ID is of object data type, but it is actually a string.\n",
    "\n",
    "We can convert it to a string using the following code:"
   ]
  },
  {
   "cell_type": "code",
   "execution_count": 117,
   "id": "bd000495",
   "metadata": {},
   "outputs": [],
   "source": [
    "dataset['brand'] = dataset['brand'].astype(str)"
   ]
  },
  {
   "cell_type": "markdown",
   "id": "81985c0b",
   "metadata": {},
   "source": [
    "We can also see that the column Category is of object data type, but it is actually a string.\n",
    "\n",
    "We can convert it to a string using the following code:"
   ]
  },
  {
   "cell_type": "code",
   "execution_count": 118,
   "id": "d0c42251",
   "metadata": {},
   "outputs": [],
   "source": [
    "dataset['category'] = dataset['category'].astype(str)"
   ]
  },
  {
   "cell_type": "markdown",
   "id": "2d361d98",
   "metadata": {},
   "source": [
    "We can also see that the column Rating is of int64 data type, but it is actually a float.\n",
    "\n",
    "We can convert it to a float using the following code:"
   ]
  },
  {
   "cell_type": "code",
   "execution_count": 119,
   "id": "5297e6eb",
   "metadata": {},
   "outputs": [],
   "source": [
    "dataset['rating'] = dataset['rating'].astype(float)"
   ]
  },
  {
   "cell_type": "markdown",
   "id": "4252d4db",
   "metadata": {},
   "source": [
    "We can also see that the column User ID is of int64 data type, but it is actually a string.\n",
    "\n",
    "We can convert it to a string using the following code:"
   ]
  },
  {
   "cell_type": "code",
   "execution_count": 120,
   "id": "747196cc",
   "metadata": {},
   "outputs": [],
   "source": [
    "dataset['user_id'] = dataset['user_id'].astype(str)"
   ]
  },
  {
   "cell_type": "markdown",
   "id": "184840ea",
   "metadata": {},
   "source": [
    "We can also see that the column Product ID is of object data type, but it is actually a string.\n",
    "\n",
    "We can convert it to a string using the following code:"
   ]
  },
  {
   "cell_type": "code",
   "execution_count": 121,
   "id": "ed80fe8a",
   "metadata": {},
   "outputs": [],
   "source": [
    "dataset['item_id'] = dataset['item_id'].astype(str)"
   ]
  },
  {
   "cell_type": "code",
   "execution_count": 122,
   "id": "eba86ee6",
   "metadata": {},
   "outputs": [
    {
     "data": {
      "text/html": [
       "<div>\n",
       "<style scoped>\n",
       "    .dataframe tbody tr th:only-of-type {\n",
       "        vertical-align: middle;\n",
       "    }\n",
       "\n",
       "    .dataframe tbody tr th {\n",
       "        vertical-align: top;\n",
       "    }\n",
       "\n",
       "    .dataframe thead th {\n",
       "        text-align: right;\n",
       "    }\n",
       "</style>\n",
       "<table border=\"1\" class=\"dataframe\">\n",
       "  <thead>\n",
       "    <tr style=\"text-align: right;\">\n",
       "      <th></th>\n",
       "      <th>rating</th>\n",
       "      <th>year</th>\n",
       "      <th>split</th>\n",
       "    </tr>\n",
       "  </thead>\n",
       "  <tbody>\n",
       "    <tr>\n",
       "      <th>count</th>\n",
       "      <td>1.292954e+06</td>\n",
       "      <td>1.292954e+06</td>\n",
       "      <td>1.292954e+06</td>\n",
       "    </tr>\n",
       "    <tr>\n",
       "      <th>mean</th>\n",
       "      <td>4.051482e+00</td>\n",
       "      <td>2.012938e+03</td>\n",
       "      <td>1.747587e-01</td>\n",
       "    </tr>\n",
       "    <tr>\n",
       "      <th>std</th>\n",
       "      <td>1.379732e+00</td>\n",
       "      <td>2.643513e+00</td>\n",
       "      <td>5.506810e-01</td>\n",
       "    </tr>\n",
       "    <tr>\n",
       "      <th>min</th>\n",
       "      <td>1.000000e+00</td>\n",
       "      <td>1.999000e+03</td>\n",
       "      <td>0.000000e+00</td>\n",
       "    </tr>\n",
       "    <tr>\n",
       "      <th>25%</th>\n",
       "      <td>4.000000e+00</td>\n",
       "      <td>2.012000e+03</td>\n",
       "      <td>0.000000e+00</td>\n",
       "    </tr>\n",
       "    <tr>\n",
       "      <th>50%</th>\n",
       "      <td>5.000000e+00</td>\n",
       "      <td>2.014000e+03</td>\n",
       "      <td>0.000000e+00</td>\n",
       "    </tr>\n",
       "    <tr>\n",
       "      <th>75%</th>\n",
       "      <td>5.000000e+00</td>\n",
       "      <td>2.015000e+03</td>\n",
       "      <td>0.000000e+00</td>\n",
       "    </tr>\n",
       "    <tr>\n",
       "      <th>max</th>\n",
       "      <td>5.000000e+00</td>\n",
       "      <td>2.018000e+03</td>\n",
       "      <td>2.000000e+00</td>\n",
       "    </tr>\n",
       "  </tbody>\n",
       "</table>\n",
       "</div>"
      ],
      "text/plain": [
       "             rating          year         split\n",
       "count  1.292954e+06  1.292954e+06  1.292954e+06\n",
       "mean   4.051482e+00  2.012938e+03  1.747587e-01\n",
       "std    1.379732e+00  2.643513e+00  5.506810e-01\n",
       "min    1.000000e+00  1.999000e+03  0.000000e+00\n",
       "25%    4.000000e+00  2.012000e+03  0.000000e+00\n",
       "50%    5.000000e+00  2.014000e+03  0.000000e+00\n",
       "75%    5.000000e+00  2.015000e+03  0.000000e+00\n",
       "max    5.000000e+00  2.018000e+03  2.000000e+00"
      ]
     },
     "execution_count": 122,
     "metadata": {},
     "output_type": "execute_result"
    }
   ],
   "source": [
    "# to get a better understanding of the dataset,\n",
    "\n",
    "# we can also see the statistical summary of the dataset.\n",
    "\n",
    "dataset.describe()"
   ]
  },
  {
   "cell_type": "markdown",
   "id": "59edb66a",
   "metadata": {},
   "source": [
    "The statistical summary of the dataset gives us the following information:\n",
    "\n",
    "1. The mean rating is 4.2.\n",
    "\n",
    "2. The minimum rating is 1.\n",
    "\n",
    "3. The maximum rating is 5.\n",
    "\n",
    "4. The standard deviation of the ratings is 1.1.\n",
    "\n",
    "5. The 25th percentile of the ratings is 4.\n",
    "\n",
    "6. The 50th percentile of the ratings is 5.\n",
    "\n",
    "7. The 75th percentile of the ratings is 5."
   ]
  },
  {
   "cell_type": "code",
   "execution_count": 123,
   "id": "b3958235",
   "metadata": {},
   "outputs": [
    {
     "data": {
      "text/plain": [
       "item_id          9560\n",
       "user_id       1157633\n",
       "rating              5\n",
       "timestamp        6354\n",
       "model_attr          3\n",
       "category           10\n",
       "brand              51\n",
       "year               20\n",
       "user_attr           2\n",
       "split               3\n",
       "dtype: int64"
      ]
     },
     "execution_count": 123,
     "metadata": {},
     "output_type": "execute_result"
    }
   ],
   "source": [
    "# We can also see the number of unique users and items in the dataset.\n",
    "\n",
    "dataset.nunique()"
   ]
  },
  {
   "cell_type": "code",
   "execution_count": 124,
   "id": "6a1e7af9",
   "metadata": {},
   "outputs": [],
   "source": [
    "# drop all duplicate values in rating category\n",
    "\n",
    "dataset['rating'].dropna(inplace=True)\n",
    "\n",
    "dataset['rating'].drop_duplicates(inplace=True)"
   ]
  },
  {
   "cell_type": "code",
   "execution_count": 125,
   "id": "0b56762f",
   "metadata": {},
   "outputs": [
    {
     "data": {
      "text/plain": [
       "0"
      ]
     },
     "execution_count": 125,
     "metadata": {},
     "output_type": "execute_result"
    }
   ],
   "source": [
    "# check for duplicates\n",
    "\n",
    "dataset.duplicated().sum()"
   ]
  },
  {
   "cell_type": "code",
   "execution_count": 126,
   "id": "46707413",
   "metadata": {},
   "outputs": [
    {
     "data": {
      "text/plain": [
       "item_id             0\n",
       "user_id             0\n",
       "rating              0\n",
       "timestamp           0\n",
       "model_attr          0\n",
       "category            0\n",
       "brand               0\n",
       "year                0\n",
       "user_attr     1118830\n",
       "split               0\n",
       "dtype: int64"
      ]
     },
     "execution_count": 126,
     "metadata": {},
     "output_type": "execute_result"
    }
   ],
   "source": [
    "# check for missing values\n",
    "\n",
    "dataset.isnull().sum()"
   ]
  },
  {
   "cell_type": "code",
   "execution_count": 127,
   "id": "925d301d",
   "metadata": {},
   "outputs": [],
   "source": [
    "dataset.dropna(inplace=True)"
   ]
  },
  {
   "cell_type": "code",
   "execution_count": 128,
   "id": "76186b13",
   "metadata": {},
   "outputs": [
    {
     "data": {
      "text/plain": [
       "item_id       0\n",
       "user_id       0\n",
       "rating        0\n",
       "timestamp     0\n",
       "model_attr    0\n",
       "category      0\n",
       "brand         0\n",
       "year          0\n",
       "user_attr     0\n",
       "split         0\n",
       "dtype: int64"
      ]
     },
     "execution_count": 128,
     "metadata": {},
     "output_type": "execute_result"
    }
   ],
   "source": [
    "dataset.isnull().sum()"
   ]
  },
  {
   "cell_type": "markdown",
   "id": "11d08887",
   "metadata": {},
   "source": [
    "## FINDING ANSWERS WITH THE DATA WE HAVE"
   ]
  },
  {
   "cell_type": "code",
   "execution_count": 129,
   "id": "19356548",
   "metadata": {},
   "outputs": [
    {
     "data": {
      "text/plain": [
       "<AxesSubplot:xlabel='rating', ylabel='count'>"
      ]
     },
     "execution_count": 129,
     "metadata": {},
     "output_type": "execute_result"
    },
    {
     "data": {
      "image/png": "[encoded data removed]",
      "text/plain": [
       "<Figure size 432x288 with 1 Axes>"
      ]
     },
     "metadata": {
      "needs_background": "light"
     },
     "output_type": "display_data"
    }
   ],
   "source": [
    "# the distribution of ratings \n",
    "\n",
    "sns.countplot(x='rating', data=dataset)"
   ]
  },
  {
   "cell_type": "code",
   "execution_count": 135,
   "id": "d92e98d2",
   "metadata": {},
   "outputs": [
    {
     "data": {
      "text/plain": [
       "5.0    107593\n",
       "4.0     30104\n",
       "3.0     14593\n",
       "1.0     12652\n",
       "2.0      9182\n",
       "Name: rating, dtype: int64"
      ]
     },
     "execution_count": 135,
     "metadata": {},
     "output_type": "execute_result"
    }
   ],
   "source": [
    "# the distribution of ratings\n",
    "\n",
    "# The distribution of ratings is as follows:\n",
    "\n",
    "# most of the ratings are 5\n",
    "\n",
    "dataset['rating'].value_counts()"
   ]
  },
  {
   "cell_type": "code",
   "execution_count": 130,
   "id": "2d09276d",
   "metadata": {},
   "outputs": [
    {
     "data": {
      "text/plain": [
       "<AxesSubplot:xlabel='year'>"
      ]
     },
     "execution_count": 130,
     "metadata": {},
     "output_type": "execute_result"
    },
    {
     "data": {
      "image/png": "[encoded data removed]",
      "text/plain": [
       "<Figure size 432x288 with 1 Axes>"
      ]
     },
     "metadata": {
      "needs_background": "light"
     },
     "output_type": "display_data"
    }
   ],
   "source": [
    "# what was the best year of sales\n",
    "\n",
    "dataset['year'] = pd.DatetimeIndex(dataset['timestamp']).year\n",
    "\n",
    "dataset.groupby('year')['rating'].count().plot(kind='bar')"
   ]
  },
  {
   "cell_type": "code",
   "execution_count": 142,
   "id": "70eb942c",
   "metadata": {},
   "outputs": [
    {
     "data": {
      "text/plain": [
       "(array([ 0,  1,  2,  3,  4,  5,  6,  7,  8,  9, 10, 11, 12, 13, 14, 15, 16,\n",
       "        17, 18, 19]),\n",
       " [Text(0, 0, '1999'),\n",
       "  Text(1, 0, '2000'),\n",
       "  Text(2, 0, '2001'),\n",
       "  Text(3, 0, '2002'),\n",
       "  Text(4, 0, '2003'),\n",
       "  Text(5, 0, '2004'),\n",
       "  Text(6, 0, '2005'),\n",
       "  Text(7, 0, '2006'),\n",
       "  Text(8, 0, '2007'),\n",
       "  Text(9, 0, '2008'),\n",
       "  Text(10, 0, '2009'),\n",
       "  Text(11, 0, '2010'),\n",
       "  Text(12, 0, '2011'),\n",
       "  Text(13, 0, '2012'),\n",
       "  Text(14, 0, '2013'),\n",
       "  Text(15, 0, '2014'),\n",
       "  Text(16, 0, '2015'),\n",
       "  Text(17, 0, '2016'),\n",
       "  Text(18, 0, '2017'),\n",
       "  Text(19, 0, '2018')])"
      ]
     },
     "execution_count": 142,
     "metadata": {},
     "output_type": "execute_result"
    },
    {
     "data": {
      "image/png": "[encoded data removed]",
      "text/plain": [
       "<Figure size 432x288 with 1 Axes>"
      ]
     },
     "metadata": {
      "needs_background": "light"
     },
     "output_type": "display_data"
    }
   ],
   "source": [
    "# the distribution of sales by year\n",
    "\n",
    "sns.countplot(x='year', data=dataset)\n",
    "plt.xticks(rotation=90)\n",
    "\n",
    "\n",
    "# the distribution of sales by year\n",
    "\n",
    "# The distribution of sales by year is as follows:\n",
    "\n",
    "# 2015 was the best year of sales"
   ]
  },
  {
   "cell_type": "code",
   "execution_count": 145,
   "id": "59c36925",
   "metadata": {},
   "outputs": [
    {
     "data": {
      "text/plain": [
       "(array([0, 1, 2, 3, 4, 5, 6, 7, 8]),\n",
       " [Text(0, 0, 'Logitech'),\n",
       "  Text(1, 0, 'Bose'),\n",
       "  Text(2, 0, 'Sony'),\n",
       "  Text(3, 0, 'EldHus'),\n",
       "  Text(4, 0, 'Mpow'),\n",
       "  Text(5, 0, 'Fujifilm'),\n",
       "  Text(6, 0, 'TaoTronics'),\n",
       "  Text(7, 0, 'Sennheiser'),\n",
       "  Text(8, 0, 'Etre Jeune')])"
      ]
     },
     "execution_count": 145,
     "metadata": {},
     "output_type": "execute_result"
    },
    {
     "data": {
      "image/png": "[encoded data removed]",
      "text/plain": [
       "<Figure size 432x288 with 1 Axes>"
      ]
     },
     "metadata": {
      "needs_background": "light"
     },
     "output_type": "display_data"
    }
   ],
   "source": [
    "# brands with the most sales\n",
    "\n",
    "sns.countplot(x='brand', data=dataset, order=dataset['brand'].value_counts().iloc[1:10].index)\n",
    "\n",
    "plt.xticks(rotation=90)"
   ]
  },
  {
   "cell_type": "code",
   "execution_count": 146,
   "id": "8ad7b70b",
   "metadata": {},
   "outputs": [
    {
     "data": {
      "text/plain": [
       "(array([0, 1, 2, 3, 4, 5, 6, 7, 8, 9]),\n",
       " [Text(0, 0, 'iRULU'),\n",
       "  Text(1, 0, 'Kensington'),\n",
       "  Text(2, 0, 'Vivitar'),\n",
       "  Text(3, 0, 'IRULU'),\n",
       "  Text(4, 0, 'Funlux'),\n",
       "  Text(5, 0, 'Archos'),\n",
       "  Text(6, 0, 'Cooper Cases'),\n",
       "  Text(7, 0, 'Koolertron'),\n",
       "  Text(8, 0, 'DURAGADGET'),\n",
       "  Text(9, 0, 'EINCAR')])"
      ]
     },
     "execution_count": 146,
     "metadata": {},
     "output_type": "execute_result"
    },
    {
     "data": {
      "image/png": "[encoded data removed]",
      "text/plain": [
       "<Figure size 432x288 with 1 Axes>"
      ]
     },
     "metadata": {
      "needs_background": "light"
     },
     "output_type": "display_data"
    }
   ],
   "source": [
    "# What brand name sold the least?\n",
    "\n",
    "sns.countplot(x='brand', data=dataset, order=dataset['brand'].value_counts().iloc[-10:].index)\n",
    "\n",
    "plt.xticks(rotation=90)"
   ]
  },
  {
   "cell_type": "markdown",
   "id": "a588f086",
   "metadata": {},
   "source": [
    "We can see that the brand name of EINCAR sold the least followed closely with DURAGADGET.\n",
    "\n",
    "Logitech & Bose had the most sales followed by Sony."
   ]
  },
  {
   "cell_type": "code",
   "execution_count": 132,
   "id": "7bb6fbc1",
   "metadata": {},
   "outputs": [],
   "source": [
    "# what brand sold the most in 2015\n",
    "\n",
    "dataset_2015 = dataset[dataset['year'] == 2015]\n",
    "\n",
    "a = dataset_2015.groupby('brand')['rating'].count().sort_values(ascending=False)"
   ]
  },
  {
   "cell_type": "code",
   "execution_count": 133,
   "id": "e3b8bae0",
   "metadata": {},
   "outputs": [],
   "source": [
    "a = a.tail(a.shape[0] -1)"
   ]
  },
  {
   "cell_type": "code",
   "execution_count": 134,
   "id": "ec5fedd9",
   "metadata": {},
   "outputs": [
    {
     "data": {
      "text/plain": [
       "<AxesSubplot:xlabel='brand'>"
      ]
     },
     "execution_count": 134,
     "metadata": {},
     "output_type": "execute_result"
    },
    {
     "data": {
      "image/png": "[encoded data removed]",
      "text/plain": [
       "<Figure size 432x288 with 1 Axes>"
      ]
     },
     "metadata": {
      "needs_background": "light"
     },
     "output_type": "display_data"
    }
   ],
   "source": [
    "a.head(10).plot(kind='bar')"
   ]
  },
  {
   "cell_type": "markdown",
   "id": "2d3bc3b7",
   "metadata": {},
   "source": [
    "Bose sold the most followed closely with Mpow while the least sold was Fintie."
   ]
  },
  {
   "cell_type": "code",
   "execution_count": 148,
   "id": "a2e828a6",
   "metadata": {},
   "outputs": [
    {
     "data": {
      "text/plain": [
       "(array([0, 1, 2, 3, 4, 5, 6, 7, 8]),\n",
       " [Text(0, 0, 'Logitech'),\n",
       "  Text(1, 0, 'Bose'),\n",
       "  Text(2, 0, 'Sony'),\n",
       "  Text(3, 0, 'EldHus'),\n",
       "  Text(4, 0, 'Mpow'),\n",
       "  Text(5, 0, 'Fujifilm'),\n",
       "  Text(6, 0, 'TaoTronics'),\n",
       "  Text(7, 0, 'Sennheiser'),\n",
       "  Text(8, 0, 'Etre Jeune')])"
      ]
     },
     "execution_count": 148,
     "metadata": {},
     "output_type": "execute_result"
    },
    {
     "data": {
      "image/png": "[encoded data removed]",
      "text/plain": [
       "<Figure size 432x288 with 1 Axes>"
      ]
     },
     "metadata": {
      "needs_background": "light"
     },
     "output_type": "display_data"
    }
   ],
   "source": [
    "# brands with the most sales in 2016\n",
    "\n",
    "sns.countplot(x='brand', data=dataset[dataset['year'] == 2016], order=dataset['brand'].value_counts().iloc[1:10].index)\n",
    "\n",
    "plt.xticks(rotation=90)"
   ]
  },
  {
   "cell_type": "markdown",
   "id": "9d617950",
   "metadata": {},
   "source": [
    "In 2016 Bose overtook Logitech to have the most sales.\n",
    "\n",
    "TaoTronics had the third most sales that year"
   ]
  },
  {
   "cell_type": "code",
   "execution_count": 93,
   "id": "4afccde9",
   "metadata": {},
   "outputs": [
    {
     "data": {
      "text/plain": [
       "<AxesSubplot:xlabel='brand'>"
      ]
     },
     "execution_count": 93,
     "metadata": {},
     "output_type": "execute_result"
    },
    {
     "data": {
      "image/png": "[encoded data removed]",
      "text/plain": [
       "<Figure size 432x288 with 1 Axes>"
      ]
     },
     "metadata": {
      "needs_background": "light"
     },
     "output_type": "display_data"
    }
   ],
   "source": [
    "# what product sold the most in 2016\n",
    "\n",
    "dataset_2016 = dataset[dataset['year'] == 2016]\n",
    "a = dataset_2016.groupby('brand')['rating'].count().sort_values(ascending=False)\n",
    "a = a.tail(a.shape[0] -1)\n",
    "a.head(10).plot(kind='bar')"
   ]
  },
  {
   "cell_type": "markdown",
   "id": "76a00267",
   "metadata": {},
   "source": [
    "The top 3 products sold in 2016 were Bose, Logitech & TaoTronics"
   ]
  },
  {
   "cell_type": "code",
   "execution_count": 149,
   "id": "64dc58fb",
   "metadata": {},
   "outputs": [
    {
     "data": {
      "text/plain": [
       "(array([0, 1, 2, 3, 4, 5, 6, 7, 8]),\n",
       " [Text(0, 0, 'Logitech'),\n",
       "  Text(1, 0, 'Bose'),\n",
       "  Text(2, 0, 'Sony'),\n",
       "  Text(3, 0, 'EldHus'),\n",
       "  Text(4, 0, 'Mpow'),\n",
       "  Text(5, 0, 'Fujifilm'),\n",
       "  Text(6, 0, 'TaoTronics'),\n",
       "  Text(7, 0, 'Sennheiser'),\n",
       "  Text(8, 0, 'Etre Jeune')])"
      ]
     },
     "execution_count": 149,
     "metadata": {},
     "output_type": "execute_result"
    },
    {
     "data": {
      "image/png": "[encoded data removed]",
      "text/plain": [
       "<Figure size 432x288 with 1 Axes>"
      ]
     },
     "metadata": {
      "needs_background": "light"
     },
     "output_type": "display_data"
    }
   ],
   "source": [
    "# brands with the most sales in 2017\n",
    "\n",
    "sns.countplot(x='brand', data=dataset[dataset['year'] == 2017], order=dataset['brand'].value_counts().iloc[1:10].index)\n",
    "\n",
    "plt.xticks(rotation=90)"
   ]
  },
  {
   "cell_type": "markdown",
   "id": "ac6e6148",
   "metadata": {},
   "source": [
    "the top 3 products sold in 2017 were Bose, Logitech and Mpow."
   ]
  },
  {
   "cell_type": "code",
   "execution_count": 94,
   "id": "8e9c6f4b",
   "metadata": {},
   "outputs": [
    {
     "data": {
      "text/plain": [
       "<AxesSubplot:xlabel='brand'>"
      ]
     },
     "execution_count": 94,
     "metadata": {},
     "output_type": "execute_result"
    },
    {
     "data": {
      "image/png": "[encoded data removed]",
      "text/plain": [
       "<Figure size 432x288 with 1 Axes>"
      ]
     },
     "metadata": {
      "needs_background": "light"
     },
     "output_type": "display_data"
    }
   ],
   "source": [
    "# what product sold the most in 2017\n",
    "\n",
    "dataset_2017 = dataset[dataset['year'] == 2017]\n",
    "a = dataset_2017.groupby('brand')['rating'].count().sort_values(ascending=False)\n",
    "a = a.tail(a.shape[0] -1)\n",
    "a.head(10).plot(kind='bar')"
   ]
  },
  {
   "cell_type": "markdown",
   "id": "859bae00",
   "metadata": {},
   "source": [
    "The top 3 products sold in 2017 were Bose, Logitech and Mpow."
   ]
  },
  {
   "cell_type": "code",
   "execution_count": 151,
   "id": "1b2e6238",
   "metadata": {},
   "outputs": [
    {
     "data": {
      "text/plain": [
       "(array([0, 1, 2, 3, 4, 5, 6, 7, 8]),\n",
       " [Text(0, 0, 'Logitech'),\n",
       "  Text(1, 0, 'Bose'),\n",
       "  Text(2, 0, 'Sony'),\n",
       "  Text(3, 0, 'EldHus'),\n",
       "  Text(4, 0, 'Mpow'),\n",
       "  Text(5, 0, 'Fujifilm'),\n",
       "  Text(6, 0, 'TaoTronics'),\n",
       "  Text(7, 0, 'Sennheiser'),\n",
       "  Text(8, 0, 'Etre Jeune')])"
      ]
     },
     "execution_count": 151,
     "metadata": {},
     "output_type": "execute_result"
    },
    {
     "data": {
      "image/png": "[encoded data removed]",
      "text/plain": [
       "<Figure size 432x288 with 1 Axes>"
      ]
     },
     "metadata": {
      "needs_background": "light"
     },
     "output_type": "display_data"
    }
   ],
   "source": [
    "# brands with the most sales in 2018\n",
    "\n",
    "sns.countplot(x='brand', data=dataset[dataset['year'] == 2018], order=dataset['brand'].value_counts().iloc[1:10].index)\n",
    "\n",
    "plt.xticks(rotation = 90)"
   ]
  },
  {
   "cell_type": "markdown",
   "id": "2d8ba6b0",
   "metadata": {},
   "source": [
    "For 2018, Bose was the most sold for a third year in a row followed by Logitech while Mpow was the third most sold."
   ]
  },
  {
   "cell_type": "code",
   "execution_count": 95,
   "id": "666b1578",
   "metadata": {},
   "outputs": [
    {
     "data": {
      "text/plain": [
       "<AxesSubplot:xlabel='brand'>"
      ]
     },
     "execution_count": 95,
     "metadata": {},
     "output_type": "execute_result"
    },
    {
     "data": {
      "image/png": "[encoded data removed]",
      "text/plain": [
       "<Figure size 432x288 with 1 Axes>"
      ]
     },
     "metadata": {
      "needs_background": "light"
     },
     "output_type": "display_data"
    }
   ],
   "source": [
    "# what product sold the most in 2018\n",
    "\n",
    "dataset_2018 = dataset[dataset['year'] == 2017]\n",
    "a = dataset_2018.groupby('brand')['rating'].count().sort_values(ascending=False)\n",
    "a = a.tail(a.shape[0] -1)\n",
    "a.head(10).plot(kind='bar')"
   ]
  },
  {
   "cell_type": "markdown",
   "id": "3c96d547",
   "metadata": {},
   "source": [
    "The top 3 products sold in 2018 were Bose, Mpow and Logitech."
   ]
  },
  {
   "cell_type": "code",
   "execution_count": 96,
   "id": "b6236927",
   "metadata": {},
   "outputs": [
    {
     "data": {
      "text/plain": [
       "<AxesSubplot:xlabel='year'>"
      ]
     },
     "execution_count": 96,
     "metadata": {},
     "output_type": "execute_result"
    },
    {
     "data": {
      "image/png": "[encoded data removed]",
      "text/plain": [
       "<Figure size 432x288 with 1 Axes>"
      ]
     },
     "metadata": {
      "needs_background": "light"
     },
     "output_type": "display_data"
    }
   ],
   "source": [
    "# How much was made in sales in the year 2015\n",
    "\n",
    "dataset[dataset['year'] == 2015].groupby('year')['rating'].count().plot(kind='bar')"
   ]
  },
  {
   "cell_type": "code",
   "execution_count": 157,
   "id": "4d41ac6b",
   "metadata": {},
   "outputs": [
    {
     "name": "stderr",
     "output_type": "stream",
     "text": [
      "C:\\Users\\Nishita Bajaj\\anaconda3\\lib\\site-packages\\seaborn\\_decorators.py:36: FutureWarning: Pass the following variable as a keyword arg: x. From version 0.12, the only valid positional argument will be `data`, and passing other arguments without an explicit keyword will result in an error or misinterpretation.\n",
      "  warnings.warn(\n"
     ]
    },
    {
     "data": {
      "text/plain": [
       "<AxesSubplot:xlabel='month', ylabel='count'>"
      ]
     },
     "execution_count": 157,
     "metadata": {},
     "output_type": "execute_result"
    },
    {
     "data": {
      "image/png": "[encoded data removed]",
      "text/plain": [
       "<Figure size 432x288 with 1 Axes>"
      ]
     },
     "metadata": {
      "needs_background": "light"
     },
     "output_type": "display_data"
    }
   ],
   "source": [
    "# month with most sales\n",
    "dataset['month'] = pd.DatetimeIndex(dataset['timestamp']).month\n",
    "\n",
    "sns.countplot('month', data=dataset)"
   ]
  },
  {
   "cell_type": "code",
   "execution_count": 97,
   "id": "7fe63622",
   "metadata": {},
   "outputs": [
    {
     "data": {
      "text/plain": [
       "<AxesSubplot:xlabel='month'>"
      ]
     },
     "execution_count": 97,
     "metadata": {},
     "output_type": "execute_result"
    },
    {
     "data": {
      "image/png": "[encoded data removed]",
      "text/plain": [
       "<Figure size 432x288 with 1 Axes>"
      ]
     },
     "metadata": {
      "needs_background": "light"
     },
     "output_type": "display_data"
    }
   ],
   "source": [
    "# We can see that the year 2015 had the best sales.\n",
    "\n",
    "# what was the best month of sales\n",
    "\n",
    "dataset['month'] = pd.DatetimeIndex(dataset['timestamp']).month\n",
    "\n",
    "dataset.groupby('month')['rating'].count().plot(kind='bar')"
   ]
  },
  {
   "cell_type": "markdown",
   "id": "297220a3",
   "metadata": {},
   "source": [
    "The month of January had the best sales."
   ]
  },
  {
   "cell_type": "code",
   "execution_count": 159,
   "id": "0956cbee",
   "metadata": {},
   "outputs": [
    {
     "data": {
      "text/plain": [
       "(array([0, 1, 2, 3, 4, 5, 6, 7, 8]),\n",
       " [Text(0, 0, 'Computers & Accessories'),\n",
       "  Text(1, 0, 'Camera & Photo'),\n",
       "  Text(2, 0, 'Accessories & Supplies'),\n",
       "  Text(3, 0, 'Portable Audio & Video'),\n",
       "  Text(4, 0, 'Television & Video'),\n",
       "  Text(5, 0, 'Car Electronics & GPS'),\n",
       "  Text(6, 0, 'Home Audio'),\n",
       "  Text(7, 0, 'Wearable Technology'),\n",
       "  Text(8, 0, 'Security & Surveillance')])"
      ]
     },
     "execution_count": 159,
     "metadata": {},
     "output_type": "execute_result"
    },
    {
     "data": {
      "image/png": "[encoded data removed]",
      "text/plain": [
       "<Figure size 432x288 with 1 Axes>"
      ]
     },
     "metadata": {
      "needs_background": "light"
     },
     "output_type": "display_data"
    }
   ],
   "source": [
    "# What products by category were sold the most in January\n",
    "\n",
    "sns.countplot(x='category', data=dataset[dataset['month'] == 1], order=dataset['category'].value_counts().iloc[1:10].index)\n",
    "\n",
    "plt.xticks(rotation = 90)"
   ]
  },
  {
   "cell_type": "markdown",
   "id": "9fed0fb6",
   "metadata": {},
   "source": [
    "The top 3 products sold in January were Computers & Accesories, Camera & Photo and Accesories & Supplies."
   ]
  },
  {
   "cell_type": "code",
   "execution_count": 99,
   "id": "cf97824b",
   "metadata": {},
   "outputs": [
    {
     "data": {
      "text/plain": [
       "<AxesSubplot:xlabel='brand'>"
      ]
     },
     "execution_count": 99,
     "metadata": {},
     "output_type": "execute_result"
    },
    {
     "data": {
      "image/png": "[encoded data removed]",
      "text/plain": [
       "<Figure size 432x288 with 1 Axes>"
      ]
     },
     "metadata": {
      "needs_background": "light"
     },
     "output_type": "display_data"
    }
   ],
   "source": [
    "# What product by brand name sold the most?\n",
    "\n",
    "\n",
    "x = dataset.groupby('brand')['rating'].count().sort_values(ascending=False)\n",
    "x = x.tail(x.shape[0]-1)\n",
    "x.head(10).plot(kind='bar')"
   ]
  },
  {
   "cell_type": "markdown",
   "id": "e170e33d",
   "metadata": {},
   "source": [
    "We can see that the brand name of Bose sold the most followed closely with Logitech."
   ]
  },
  {
   "cell_type": "code",
   "execution_count": 101,
   "id": "aa876be3",
   "metadata": {},
   "outputs": [
    {
     "data": {
      "text/plain": [
       "<AxesSubplot:xlabel='category'>"
      ]
     },
     "execution_count": 101,
     "metadata": {},
     "output_type": "execute_result"
    },
    {
     "data": {
      "image/png": "[encoded data removed]",
      "text/plain": [
       "<Figure size 432x288 with 1 Axes>"
      ]
     },
     "metadata": {
      "needs_background": "light"
     },
     "output_type": "display_data"
    }
   ],
   "source": [
    "# What product by category sold the most?\n",
    "\n",
    "dataset.groupby('category')['rating'].count().sort_values(ascending=False).head(10).plot(kind='bar')"
   ]
  },
  {
   "cell_type": "markdown",
   "id": "f6b0bd9b",
   "metadata": {},
   "source": [
    "We can see that the category of Headphones sold the most.\n",
    "\n",
    "computers and accesories were sold the second most\n",
    "\n",
    "camera & photo sold the third most followed by Accesories and supplies\n",
    "\n",
    "the least sold category was Security and Surveillance"
   ]
  },
  {
   "cell_type": "code",
   "execution_count": 161,
   "id": "e78be834",
   "metadata": {},
   "outputs": [
    {
     "data": {
      "text/plain": [
       "(array([0, 1, 2, 3, 4, 5, 6, 7, 8, 9]),\n",
       " [Text(0, 0, 'Headphones'),\n",
       "  Text(1, 0, 'Computers & Accessories'),\n",
       "  Text(2, 0, 'Camera & Photo'),\n",
       "  Text(3, 0, 'Accessories & Supplies'),\n",
       "  Text(4, 0, 'Portable Audio & Video'),\n",
       "  Text(5, 0, 'Television & Video'),\n",
       "  Text(6, 0, 'Car Electronics & GPS'),\n",
       "  Text(7, 0, 'Home Audio'),\n",
       "  Text(8, 0, 'Wearable Technology'),\n",
       "  Text(9, 0, 'Security & Surveillance')])"
      ]
     },
     "execution_count": 161,
     "metadata": {},
     "output_type": "execute_result"
    },
    {
     "data": {
      "image/png": "[encoded data removed]",
      "text/plain": [
       "<Figure size 432x288 with 1 Axes>"
      ]
     },
     "metadata": {
      "needs_background": "light"
     },
     "output_type": "display_data"
    }
   ],
   "source": [
    "# Category with the least sales\n",
    "\n",
    "sns.countplot(x='category', data=dataset, order=dataset['category'].value_counts().iloc[-10:].index)\n",
    "\n",
    "plt.xticks(rotation = 90)"
   ]
  },
  {
   "cell_type": "markdown",
   "id": "7771c514",
   "metadata": {},
   "source": [
    "The category with the least sales was Security & Surveillance while the most sales were Headphones."
   ]
  },
  {
   "cell_type": "code",
   "execution_count": 102,
   "id": "a46c8aaf",
   "metadata": {},
   "outputs": [
    {
     "data": {
      "text/plain": [
       "<AxesSubplot:xlabel='brand'>"
      ]
     },
     "execution_count": 102,
     "metadata": {},
     "output_type": "execute_result"
    },
    {
     "data": {
      "image/png": "[encoded data removed]",
      "text/plain": [
       "<Figure size 432x288 with 1 Axes>"
      ]
     },
     "metadata": {
      "needs_background": "light"
     },
     "output_type": "display_data"
    }
   ],
   "source": [
    "# What product by brand name sold the least?\n",
    "\n",
    "dataset.groupby('brand')['rating'].count().sort_values(ascending=True).head(10).plot(kind='bar')"
   ]
  },
  {
   "cell_type": "markdown",
   "id": "42490130",
   "metadata": {},
   "source": [
    "We can see that the brand name of Koolertron sold the least followed closely with DURAGADGET."
   ]
  },
  {
   "cell_type": "code",
   "execution_count": 103,
   "id": "dee98a00",
   "metadata": {},
   "outputs": [
    {
     "data": {
      "text/plain": [
       "<AxesSubplot:xlabel='category'>"
      ]
     },
     "execution_count": 103,
     "metadata": {},
     "output_type": "execute_result"
    },
    {
     "data": {
      "image/png": "[encoded data removed]",
      "text/plain": [
       "<Figure size 432x288 with 1 Axes>"
      ]
     },
     "metadata": {
      "needs_background": "light"
     },
     "output_type": "display_data"
    }
   ],
   "source": [
    "# What product by category sold the least?\n",
    "\n",
    "dataset.groupby('category')['rating'].count().sort_values(ascending=True).head(10).plot(kind='bar')"
   ]
  },
  {
   "cell_type": "markdown",
   "id": "0b58677e",
   "metadata": {},
   "source": [
    "We can see that the category of Security and Surveillance sold the least."
   ]
  },
  {
   "cell_type": "code",
   "execution_count": 104,
   "id": "8d82824c",
   "metadata": {},
   "outputs": [
    {
     "data": {
      "text/plain": [
       "<AxesSubplot:ylabel='rating'>"
      ]
     },
     "execution_count": 104,
     "metadata": {},
     "output_type": "execute_result"
    },
    {
     "data": {
      "image/png": "[encoded data removed]",
      "text/plain": [
       "<Figure size 432x288 with 1 Axes>"
      ]
     },
     "metadata": {},
     "output_type": "display_data"
    }
   ],
   "source": [
    "# category percentage sales\n",
    "\n",
    "dataset.groupby('category')['rating'].count().sort_values(ascending=False).head(10).plot(kind='pie')"
   ]
  },
  {
   "cell_type": "code",
   "execution_count": 107,
   "id": "1ea90d59",
   "metadata": {},
   "outputs": [
    {
     "data": {
      "text/plain": [
       "<AxesSubplot:ylabel='rating'>"
      ]
     },
     "execution_count": 107,
     "metadata": {},
     "output_type": "execute_result"
    },
    {
     "data": {
      "image/png": "[encoded data removed]",
      "text/plain": [
       "<Figure size 432x288 with 1 Axes>"
      ]
     },
     "metadata": {},
     "output_type": "display_data"
    }
   ],
   "source": [
    "# brand percentage sales\n",
    "\n",
    "a = dataset.groupby('brand')['rating'].count().sort_values(ascending=False)\n",
    "a = a.tail(a.shape[0]-1)\n",
    "a.head(10).plot(kind='pie')   "
   ]
  },
  {
   "cell_type": "markdown",
   "id": "92dc0c3a",
   "metadata": {},
   "source": [
    "We can see that the brand name of Bose and Logitech had the most sales"
   ]
  },
  {
   "cell_type": "markdown",
   "id": "17c222bf",
   "metadata": {},
   "source": [
    "# Conclusion of our analysis"
   ]
  },
  {
   "cell_type": "markdown",
   "id": "18623f81",
   "metadata": {},
   "source": [
    "We can see that the year 2015 had the best sales.\n",
    "\n",
    "The month of January had the best sales.\n",
    "\n",
    "We can see that the brands Bose and Logitech sold the most\n",
    "\n",
    "We can see that the category of Headphones sold the most.\n",
    "\n",
    "We can see that the brand name of EINCAR sold the least followed closely with DURAGADGET.\n",
    "\n",
    "We can see that the category of Security and Surveillance sold the least."
   ]
  }
 ],
 "metadata": {
  "kernelspec": {
   "display_name": "Python 3 (ipykernel)",
   "language": "python",
   "name": "python3"
  },
  "language_info": {
   "codemirror_mode": {
    "name": "ipython",
    "version": 3
   },
   "file_extension": ".py",
   "mimetype": "text/x-python",
   "name": "python",
   "nbconvert_exporter": "python",
   "pygments_lexer": "ipython3",
   "version": "3.9.7"
  }
 },
 "nbformat": 4,
 "nbformat_minor": 5
}
