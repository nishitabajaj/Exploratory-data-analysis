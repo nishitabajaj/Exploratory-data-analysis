{
 "cells": [
  {
   "cell_type": "markdown",
   "id": "c035ab33",
   "metadata": {},
   "source": [
    "# ZOMATO DATASET EXPLORATORY DATA ANALYSIS"
   ]
  },
  {
   "cell_type": "markdown",
   "id": "2fef455c",
   "metadata": {},
   "source": [
    "## IMPORTING LIBRARIES"
   ]
  },
  {
   "cell_type": "code",
   "execution_count": null,
   "id": "8e7a98c6",
   "metadata": {},
   "outputs": [],
   "source": [
    "import pandas as pd\n",
    "import numpy as np\n",
    "import matplotlib.pyplot as plt\n",
    "import seaborn as sns\n",
    "%matplotlib inline"
   ]
  },
  {
   "cell_type": "markdown",
   "id": "e45ffd3c",
   "metadata": {},
   "source": [
    "## Accessing the data"
   ]
  },
  {
   "cell_type": "code",
   "execution_count": null,
   "id": "5f188836",
   "metadata": {},
   "outputs": [],
   "source": [
    "df = pd.read_csv(\"D:\\\\ZOMATO-DATASET-EXPLORATORY-DATA-ANALYSIS-main\\\\zomato.csv\",encoding = 'latin-1')\n",
    "df.head()"
   ]
  },
  {
   "cell_type": "code",
   "execution_count": null,
   "id": "4a5344e7",
   "metadata": {},
   "outputs": [],
   "source": [
    "df.columns"
   ]
  },
  {
   "cell_type": "code",
   "execution_count": null,
   "id": "b1a8c316",
   "metadata": {},
   "outputs": [],
   "source": [
    "df.info()"
   ]
  },
  {
   "cell_type": "markdown",
   "id": "925b69d9",
   "metadata": {},
   "source": [
    "* here int64 basically means that for integer variable\n",
    "* objects in pandas means strings and it can also be categorical variable or a text variable or may be integer variable"
   ]
  },
  {
   "cell_type": "code",
   "execution_count": null,
   "id": "07c6f3d3",
   "metadata": {},
   "outputs": [],
   "source": [
    "df.describe()"
   ]
  },
  {
   "cell_type": "markdown",
   "id": "9c282c90",
   "metadata": {},
   "source": [
    "The features which are taken inside the describe function are integer features"
   ]
  },
  {
   "cell_type": "markdown",
   "id": "4f0dd5f9",
   "metadata": {},
   "source": [
    "## IN DATA ANALYSIS THE THINGS WE KNOW\n",
    "1. Missing Values\n",
    "2. Explore about numerical variables\n",
    "3. Explore about categorical variables\n",
    "4. Finding relationship between features."
   ]
  },
  {
   "cell_type": "markdown",
   "id": "2457ae0e",
   "metadata": {},
   "source": [
    "IN ORDER TO FIND MISSING VALUES WE DO "
   ]
  },
  {
   "cell_type": "code",
   "execution_count": null,
   "id": "57b30b6f",
   "metadata": {},
   "outputs": [],
   "source": [
    "df.isnull().sum()"
   ]
  },
  {
   "cell_type": "code",
   "execution_count": null,
   "id": "da79fa18",
   "metadata": {},
   "outputs": [],
   "source": [
    "[features for features in df.columns if df[features].isnull().sum()>0]"
   ]
  },
  {
   "cell_type": "markdown",
   "id": "d0812f60",
   "metadata": {},
   "source": [
    "## Checking null values"
   ]
  },
  {
   "cell_type": "code",
   "execution_count": null,
   "id": "8f1395c7",
   "metadata": {},
   "outputs": [],
   "source": [
    "plt.figure(figsize=(18,5),dpi=300) #dpi = dots per inch\n",
    "sns.heatmap(df.isnull(),yticklabels=False,cbar=True,cmap='magma')"
   ]
  },
  {
   "cell_type": "code",
   "execution_count": null,
   "id": "66cc2701",
   "metadata": {},
   "outputs": [],
   "source": [
    "df_country = pd.read_excel('D:\\\\ZOMATO-DATASET-EXPLORATORY-DATA-ANALYSIS-main\\\\Country-Code.xlsx')\n",
    "df_country.head()"
   ]
  },
  {
   "cell_type": "code",
   "execution_count": null,
   "id": "2522b5b8",
   "metadata": {},
   "outputs": [],
   "source": [
    "df.columns"
   ]
  },
  {
   "cell_type": "markdown",
   "id": "61b26cf7",
   "metadata": {},
   "source": [
    "* COMBINING df_country ALONG WITH df WITH THIS COUNTRYCODE"
   ]
  },
  {
   "cell_type": "code",
   "execution_count": null,
   "id": "2ad2027c",
   "metadata": {},
   "outputs": [],
   "source": [
    "final_df = pd.merge(df,df_country,on='Country Code',how='left')\n",
    "final_df.head(2)"
   ]
  },
  {
   "cell_type": "code",
   "execution_count": null,
   "id": "3338f0cc",
   "metadata": {},
   "outputs": [],
   "source": [
    "## TO CHECK DATA TYPES\n",
    "\n",
    "final_df.dtypes"
   ]
  },
  {
   "cell_type": "code",
   "execution_count": null,
   "id": "e23dbe71",
   "metadata": {},
   "outputs": [],
   "source": [
    "final_df.columns"
   ]
  },
  {
   "cell_type": "code",
   "execution_count": null,
   "id": "cfc45e4d",
   "metadata": {},
   "outputs": [],
   "source": [
    "country_names = final_df.Country.value_counts().index\n",
    "country_names"
   ]
  },
  {
   "cell_type": "code",
   "execution_count": null,
   "id": "327f84f2",
   "metadata": {},
   "outputs": [],
   "source": [
    "country_val=final_df.Country.value_counts().values\n",
    "country_val"
   ]
  },
  {
   "cell_type": "code",
   "execution_count": null,
   "id": "cc9302e1",
   "metadata": {},
   "outputs": [],
   "source": [
    "## Pie Chart - Top 3 countries that uses zomato\n",
    "plt.figure(figsize=(14,4),dpi=200)\n",
    "plt.pie(country_val[:3],labels=country_names[:3],autopct='%1.2f%%');"
   ]
  },
  {
   "cell_type": "markdown",
   "id": "85c753fe",
   "metadata": {},
   "source": [
    "## OBSERVATION\n",
    "\n",
    "1. ZOMATO's MAXIMUM TRANSCATIONS ARE FROM INDIA , AFTER THAT U.S.A.\n",
    "\n",
    "2. THE COMPANY IS GETTING MORE PROFIT FROM INDIA\n",
    "\n",
    "3. MAJOR BUSINESS IS HAPPENING IN INDIA"
   ]
  },
  {
   "cell_type": "code",
   "execution_count": null,
   "id": "e4f4870a",
   "metadata": {},
   "outputs": [],
   "source": [
    "final_df.columns"
   ]
  },
  {
   "cell_type": "code",
   "execution_count": null,
   "id": "cb3753fd",
   "metadata": {},
   "outputs": [],
   "source": [
    "ratings=final_df.groupby(['Aggregate rating','Rating color','Rating text']).size().reset_index().rename(columns={0:'Rating Count'})"
   ]
  },
  {
   "cell_type": "code",
   "execution_count": null,
   "id": "76f06496",
   "metadata": {},
   "outputs": [],
   "source": [
    "ratings"
   ]
  },
  {
   "cell_type": "markdown",
   "id": "676c2e58",
   "metadata": {},
   "source": [
    "## OBSERVATION\n",
    "\n",
    "1. WHEN RATING IS BETWEEN FROM 4.5 TO 4.9 THE RATING WERE EXCELLENT\n",
    "\n",
    "2. WHEN RATING IS BETWEEN FROM 4.0 TO 4.4 THE RATING WERE VERY GOOD\n",
    "\n",
    "3.  WHEN RATING IS BETWEEN FROM 3.5 TO 3.9 THE RATING WERE  GOOD\n",
    "\n",
    "4.  WHEN RATING IS BETWEEN FROM 2.5 TO 3.4 THE RATING WERE AVERAGE\n",
    "\n",
    "5.  WHEN RATING IS BETWEEN FROM 1.8 TO 2.4 THE RATING WERE POOR\n",
    "\n",
    "6.  WHEN RATING IS 0 IT MEANS PEOPLE HAS NOT GIVEN ANY RATING"
   ]
  },
  {
   "cell_type": "code",
   "execution_count": null,
   "id": "b2a8ae30",
   "metadata": {},
   "outputs": [],
   "source": [
    "plt.figure(figsize=(14,7),dpi=300)\n",
    "sns.set_style('whitegrid')\n",
    "sns.barplot(x=\"Aggregate rating\",y=\"Rating Count\",data=ratings)"
   ]
  },
  {
   "cell_type": "code",
   "execution_count": null,
   "id": "30ebee5f",
   "metadata": {},
   "outputs": [],
   "source": [
    "plt.figure(figsize=(14,7),dpi=300)\n",
    "sns.barplot(x=\"Aggregate rating\",y=\"Rating Count\",hue='Rating color',data=ratings,palette=['blue','red','orange','yellow','green','green'])\n",
    "plt.legend(loc=1)"
   ]
  },
  {
   "cell_type": "markdown",
   "id": "b67f73a8",
   "metadata": {},
   "source": [
    "## OBSERVATION\n",
    "\n",
    "1. NOT RATED COUNT IS VERY HIGH\n",
    "\n",
    "2. MAXIMUM NUMBER OF RATINGS ARE BETWEEN 2.5 TO 3.4"
   ]
  },
  {
   "cell_type": "code",
   "execution_count": null,
   "id": "1b67d519",
   "metadata": {},
   "outputs": [],
   "source": [
    "## COUNT PLOT\n",
    "plt.figure(figsize=(14,7),dpi=300)\n",
    "sns.countplot(x=\"Rating color\",data=ratings,palette='Set2');"
   ]
  },
  {
   "cell_type": "code",
   "execution_count": null,
   "id": "78632884",
   "metadata": {},
   "outputs": [],
   "source": [
    "## Correlation heatmap\n",
    "plt.figure(figsize=(15,8),dpi=300)\n",
    "sns.heatmap(df.corr(),fmt='g',annot=True)"
   ]
  },
  {
   "cell_type": "code",
   "execution_count": null,
   "id": "5ce3fe4d",
   "metadata": {},
   "outputs": [],
   "source": [
    "sns.pairplot(df)"
   ]
  },
  {
   "cell_type": "code",
   "execution_count": null,
   "id": "55e52a0b",
   "metadata": {},
   "outputs": [],
   "source": [
    "df.head(2)"
   ]
  },
  {
   "cell_type": "code",
   "execution_count": null,
   "id": "aeb0f178",
   "metadata": {},
   "outputs": [],
   "source": [
    "plt.figure(figsize=(14,7),dpi=300)\n",
    "sns.violinplot(x=df['Price range'],y=df['Aggregate rating'],hue=df['Has Table booking'],palette='Set1',dodge=True);"
   ]
  },
  {
   "cell_type": "markdown",
   "id": "c5966d2a",
   "metadata": {},
   "source": [
    "## FIND THE COUNTRIES NAME THAT HAS GIVEN ZERO RATING"
   ]
  },
  {
   "cell_type": "code",
   "execution_count": null,
   "id": "787f8eda",
   "metadata": {},
   "outputs": [],
   "source": [
    "final_df.groupby([\"Aggregate rating\",\"Country\"]).size().reset_index().head(4)"
   ]
  },
  {
   "cell_type": "code",
   "execution_count": null,
   "id": "677e46dc",
   "metadata": {},
   "outputs": [],
   "source": [
    "final_df[final_df[\"Aggregate rating\"]==0].Country.value_counts()"
   ]
  },
  {
   "cell_type": "markdown",
   "id": "da54c05b",
   "metadata": {},
   "source": [
    "## OBSERVATION\n",
    "\n",
    "MAXIMUM NUMBER OF ZERO RATING ARE FROM INDIA"
   ]
  },
  {
   "cell_type": "markdown",
   "id": "dcc5d515",
   "metadata": {},
   "source": [
    "## FIND OUT WHICH CURRENCY IS USED BY WHICH COUNTRY"
   ]
  },
  {
   "cell_type": "code",
   "execution_count": null,
   "id": "e2fd85d7",
   "metadata": {},
   "outputs": [],
   "source": [
    "final_df.columns"
   ]
  },
  {
   "cell_type": "code",
   "execution_count": null,
   "id": "efecb556",
   "metadata": {},
   "outputs": [],
   "source": [
    "final_df.groupby([\"Country\",\"Currency\"]).size().reset_index()"
   ]
  },
  {
   "cell_type": "markdown",
   "id": "af49d9c9",
   "metadata": {},
   "source": [
    "## WHICH COUNTRIES DO HAVE ONLINE DELIEVERY OPTIONS"
   ]
  },
  {
   "cell_type": "code",
   "execution_count": null,
   "id": "adf55d12",
   "metadata": {},
   "outputs": [],
   "source": [
    "final_df.columns"
   ]
  },
  {
   "cell_type": "code",
   "execution_count": null,
   "id": "3d4c1ce5",
   "metadata": {},
   "outputs": [],
   "source": [
    "final_df.groupby([\"Country\",\"Has Online delivery\"]).size().reset_index()"
   ]
  },
  {
   "cell_type": "code",
   "execution_count": null,
   "id": "90e94a1f",
   "metadata": {},
   "outputs": [],
   "source": [
    "final_df[final_df['Has Online delivery']=='Yes'].Country.value_counts()"
   ]
  },
  {
   "cell_type": "markdown",
   "id": "7ed05b51",
   "metadata": {},
   "source": [
    "## OBSERVATIONS\n",
    "\n",
    "1. ONLINE DELIVERIES ARE AVAILABLE IN INDIA AND UAE"
   ]
  },
  {
   "cell_type": "markdown",
   "id": "dab8e4ee",
   "metadata": {},
   "source": [
    "## CREATE A PIE CHART FOR TOP 5 CITIES DISTRIBUTION"
   ]
  },
  {
   "cell_type": "code",
   "execution_count": null,
   "id": "bc4ec53e",
   "metadata": {},
   "outputs": [],
   "source": [
    "final_df.columns"
   ]
  },
  {
   "cell_type": "code",
   "execution_count": null,
   "id": "6d90700d",
   "metadata": {},
   "outputs": [],
   "source": [
    "city_values = final_df.City.value_counts().values\n",
    "city_labels = final_df.City.value_counts().index"
   ]
  },
  {
   "cell_type": "code",
   "execution_count": null,
   "id": "10e0b036",
   "metadata": {},
   "outputs": [],
   "source": [
    "plt.figure(figsize=(14,4),dpi=200)\n",
    "plt.pie(city_values[:5],labels=city_labels[:5],autopct='%1.2f%%');"
   ]
  },
  {
   "cell_type": "markdown",
   "id": "68fc7398",
   "metadata": {},
   "source": [
    "## FIND THE TOP 10 CUISINES"
   ]
  },
  {
   "cell_type": "code",
   "execution_count": null,
   "id": "291c1d95",
   "metadata": {},
   "outputs": [],
   "source": [
    "cuisines_values = final_df.Cuisines.value_counts().values\n",
    "cuisines_labels = final_df.Cuisines.value_counts().index"
   ]
  },
  {
   "cell_type": "code",
   "execution_count": null,
   "id": "3281568b",
   "metadata": {},
   "outputs": [],
   "source": [
    "plt.figure(figsize=(14,4),dpi=200)\n",
    "plt.pie(cuisines_values[:10],labels=cuisines_labels[:10],autopct='%1.2f%%');"
   ]
  },
  {
   "cell_type": "markdown",
   "id": "6c4a5590",
   "metadata": {},
   "source": [
    "## OBSERVATION\n",
    "\n",
    "> THE MOST DEMANDED CUISINES IS NORTH INDIAN.\n",
    "\n",
    "> THE SECOND MOST DEMANDED CUISINES IS NORTH INDIAN,CHINESE."
   ]
  }
 ],
 "metadata": {
  "kernelspec": {
   "display_name": "Python 3 (ipykernel)",
   "language": "python",
   "name": "python3"
  },
  "language_info": {
   "codemirror_mode": {
    "name": "ipython",
    "version": 3
   },
   "file_extension": ".py",
   "mimetype": "text/x-python",
   "name": "python",
   "nbconvert_exporter": "python",
   "pygments_lexer": "ipython3",
   "version": "3.9.7"
  }
 },
 "nbformat": 4,
 "nbformat_minor": 5
}
